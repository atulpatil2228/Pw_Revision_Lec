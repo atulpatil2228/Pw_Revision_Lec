{
  "nbformat": 4,
  "nbformat_minor": 0,
  "metadata": {
    "colab": {
      "provenance": []
    },
    "kernelspec": {
      "name": "python3",
      "display_name": "Python 3"
    },
    "language_info": {
      "name": "python"
    }
  },
  "cells": [
    {
      "cell_type": "code",
      "execution_count": 1,
      "metadata": {
        "id": "tafCez7Nq5fW"
      },
      "outputs": [],
      "source": [
        "## syntax\n",
        "#def userDefFunction(arg1,aarg2,arg3....):\n",
        "  #program statment 1\n",
        " # program statment 2\n",
        " # program statement 3\n",
        "  #..........\n",
        " # return"
      ]
    },
    {
      "cell_type": "code",
      "source": [
        "def greetings():\n",
        "  print('Hello , everyone')"
      ],
      "metadata": {
        "id": "6NcmimPOtGy-"
      },
      "execution_count": 3,
      "outputs": []
    },
    {
      "cell_type": "code",
      "source": [
        "## call the functio\n",
        "greetings()"
      ],
      "metadata": {
        "colab": {
          "base_uri": "https://localhost:8080/"
        },
        "id": "P5eJE9TdtGwx",
        "outputId": "f769be41-6cf0-4d95-b110-3ef5456f5ea1"
      },
      "execution_count": 4,
      "outputs": [
        {
          "output_type": "stream",
          "name": "stdout",
          "text": [
            "Hello , everyone\n"
          ]
        }
      ]
    },
    {
      "cell_type": "code",
      "source": [
        "def greetings2(name):\n",
        "  print(f\"Hello {name}\")"
      ],
      "metadata": {
        "id": "VYoC2Lk6tGuR"
      },
      "execution_count": 12,
      "outputs": []
    },
    {
      "cell_type": "code",
      "source": [
        "greetings2('Atul')"
      ],
      "metadata": {
        "colab": {
          "base_uri": "https://localhost:8080/"
        },
        "id": "NWb1N6DstGr6",
        "outputId": "57d43184-4d0f-41e2-907e-d5ebf685b0bc"
      },
      "execution_count": 13,
      "outputs": [
        {
          "output_type": "stream",
          "name": "stdout",
          "text": [
            "Hello Atul\n"
          ]
        }
      ]
    },
    {
      "cell_type": "code",
      "source": [],
      "metadata": {
        "id": "_T7m8cOytGpP"
      },
      "execution_count": 14,
      "outputs": []
    },
    {
      "cell_type": "code",
      "source": [
        "def greetings2(name1,name2):\n",
        "  print(f\"Hello {name1,name2}\")"
      ],
      "metadata": {
        "id": "m8cLPTKotGmm"
      },
      "execution_count": 10,
      "outputs": []
    },
    {
      "cell_type": "code",
      "source": [
        "greetings2('atul' ,'anna')"
      ],
      "metadata": {
        "colab": {
          "base_uri": "https://localhost:8080/"
        },
        "id": "ZUMG5Z2dtGjv",
        "outputId": "31a82f35-b4f8-498b-de99-7c1519723015"
      },
      "execution_count": 11,
      "outputs": [
        {
          "output_type": "stream",
          "name": "stdout",
          "text": [
            "Hello ('atul', 'anna')\n"
          ]
        }
      ]
    },
    {
      "cell_type": "code",
      "source": [
        "def travel_or_not(bike,car):\n",
        "  Travel_100_Km = bike or car\n",
        "  print(f'you have bike:{bike}')\n",
        "  print(f'you have car:{car}')\n",
        "  print(f'you can travel 100 km :{Travel_100_Km}\\n')"
      ],
      "metadata": {
        "id": "TPr0EBGpvJkO"
      },
      "execution_count": 17,
      "outputs": []
    },
    {
      "cell_type": "code",
      "source": [
        "travel_or_not('zen' ,'vira')"
      ],
      "metadata": {
        "colab": {
          "base_uri": "https://localhost:8080/"
        },
        "id": "r9TupOEZw-yS",
        "outputId": "048f0d78-a991-4a8b-8abb-753d76605700"
      },
      "execution_count": 18,
      "outputs": [
        {
          "output_type": "stream",
          "name": "stdout",
          "text": [
            "you have bike:zen\n",
            "you have car:vira\n",
            "you can travel 100 km :zen\n",
            "\n"
          ]
        }
      ]
    },
    {
      "cell_type": "code",
      "source": [
        "def add_two_no(x,y):\n",
        "  print(x+y)"
      ],
      "metadata": {
        "id": "PtgK3xhUxJb6"
      },
      "execution_count": 20,
      "outputs": []
    },
    {
      "cell_type": "code",
      "source": [
        "add_two_no(77,33)"
      ],
      "metadata": {
        "colab": {
          "base_uri": "https://localhost:8080/"
        },
        "id": "jIwaahAkxuSe",
        "outputId": "888e5799-5fb3-4ca7-e59b-464848517ed3"
      },
      "execution_count": 21,
      "outputs": [
        {
          "output_type": "stream",
          "name": "stdout",
          "text": [
            "110\n"
          ]
        }
      ]
    },
    {
      "cell_type": "code",
      "source": [
        "def add_no(x,y,t,r,g,n):\n",
        "  print(x+y+t+r+g+n)"
      ],
      "metadata": {
        "id": "xwNnqYvmxycM"
      },
      "execution_count": 22,
      "outputs": []
    },
    {
      "cell_type": "code",
      "source": [
        "add_no(1,22,33,44,667,121)"
      ],
      "metadata": {
        "colab": {
          "base_uri": "https://localhost:8080/"
        },
        "id": "izkdDD0fyN_4",
        "outputId": "7abb8285-fd89-45ca-861e-400fbe6532af"
      },
      "execution_count": 23,
      "outputs": [
        {
          "output_type": "stream",
          "name": "stdout",
          "text": [
            "888\n"
          ]
        }
      ]
    },
    {
      "cell_type": "code",
      "source": [
        "def student_details(first_name,Company):\n",
        "  print(f'Hi My name is {first_name} and i am working{Company}')"
      ],
      "metadata": {
        "id": "838mKH5PyT_G"
      },
      "execution_count": 29,
      "outputs": []
    },
    {
      "cell_type": "code",
      "source": [
        "student_details('Deloitte','ekta')"
      ],
      "metadata": {
        "colab": {
          "base_uri": "https://localhost:8080/"
        },
        "id": "LFufFFZ10zwQ",
        "outputId": "747c3e04-07e2-4263-97d1-e7b8ef4c709f"
      },
      "execution_count": 27,
      "outputs": [
        {
          "output_type": "stream",
          "name": "stdout",
          "text": [
            "Hi My name isDeloitte and i am workingekta\n"
          ]
        }
      ]
    },
    {
      "cell_type": "code",
      "source": [
        "student_details(Company='Deloitte',first_name='ekta')\n",
        "\n"
      ],
      "metadata": {
        "colab": {
          "base_uri": "https://localhost:8080/"
        },
        "id": "zRxCzOLi1IWf",
        "outputId": "48cb93ed-7007-4390-ae44-786a10a21d10"
      },
      "execution_count": 30,
      "outputs": [
        {
          "output_type": "stream",
          "name": "stdout",
          "text": [
            "Hi My name is ekta and i am workingDeloitte\n"
          ]
        }
      ]
    },
    {
      "cell_type": "code",
      "source": [
        "def calulation(a,b,c):\n",
        "  result = (a+b)*c\n",
        "  return result"
      ],
      "metadata": {
        "id": "yt3DU7Zi1ZJW"
      },
      "execution_count": 31,
      "outputs": []
    },
    {
      "cell_type": "code",
      "source": [
        "def calulation_p(a,b,c):\n",
        "  result = (a+b)*c\n",
        "  print (result)"
      ],
      "metadata": {
        "id": "Mm8wHRfy17S3"
      },
      "execution_count": 32,
      "outputs": []
    },
    {
      "cell_type": "code",
      "source": [
        "r = calulation(6,2,8)\n",
        "rp = calulation_p(6,2,8)"
      ],
      "metadata": {
        "colab": {
          "base_uri": "https://localhost:8080/"
        },
        "id": "Wu5c3Wzv2O1B",
        "outputId": "f99969b3-ffa5-43e2-b876-6315d24e3d9e"
      },
      "execution_count": 33,
      "outputs": [
        {
          "output_type": "stream",
          "name": "stdout",
          "text": [
            "64\n"
          ]
        }
      ]
    },
    {
      "cell_type": "code",
      "source": [
        "r"
      ],
      "metadata": {
        "colab": {
          "base_uri": "https://localhost:8080/"
        },
        "id": "XlUGgYeA2a2c",
        "outputId": "1ef70585-d5ae-419f-996b-f64869d7db9e"
      },
      "execution_count": 34,
      "outputs": [
        {
          "output_type": "execute_result",
          "data": {
            "text/plain": [
              "64"
            ]
          },
          "metadata": {},
          "execution_count": 34
        }
      ]
    },
    {
      "cell_type": "code",
      "source": [
        "rp"
      ],
      "metadata": {
        "id": "eV1dwmNv2cMQ"
      },
      "execution_count": 36,
      "outputs": []
    },
    {
      "cell_type": "code",
      "source": [
        "type(calulation_p(6,2,8))"
      ],
      "metadata": {
        "colab": {
          "base_uri": "https://localhost:8080/"
        },
        "id": "RzoEGlS22cf7",
        "outputId": "b0b90c23-2931-45e5-f0bb-879af38e41f5"
      },
      "execution_count": 38,
      "outputs": [
        {
          "output_type": "stream",
          "name": "stdout",
          "text": [
            "64\n"
          ]
        },
        {
          "output_type": "execute_result",
          "data": {
            "text/plain": [
              "NoneType"
            ]
          },
          "metadata": {},
          "execution_count": 38
        }
      ]
    },
    {
      "cell_type": "code",
      "source": [
        "type(calulation(6,2,8))"
      ],
      "metadata": {
        "colab": {
          "base_uri": "https://localhost:8080/"
        },
        "id": "yUJmV1Mb2lVC",
        "outputId": "7808235d-ab95-4243-b9cc-0097c4166abe"
      },
      "execution_count": 39,
      "outputs": [
        {
          "output_type": "execute_result",
          "data": {
            "text/plain": [
              "int"
            ]
          },
          "metadata": {},
          "execution_count": 39
        }
      ]
    },
    {
      "cell_type": "code",
      "source": [
        "def add(a,b,c=10,d=12):\n",
        "  return a+b+c+d"
      ],
      "metadata": {
        "id": "GHI4b69u2uNq"
      },
      "execution_count": 40,
      "outputs": []
    },
    {
      "cell_type": "code",
      "source": [
        "add(2,2)"
      ],
      "metadata": {
        "colab": {
          "base_uri": "https://localhost:8080/"
        },
        "id": "jpecJEsj3Rgs",
        "outputId": "d2644ab2-2d11-4521-a022-066ea7f08d99"
      },
      "execution_count": 41,
      "outputs": [
        {
          "output_type": "execute_result",
          "data": {
            "text/plain": [
              "26"
            ]
          },
          "metadata": {},
          "execution_count": 41
        }
      ]
    },
    {
      "cell_type": "code",
      "source": [
        "add(2,2,20)"
      ],
      "metadata": {
        "colab": {
          "base_uri": "https://localhost:8080/"
        },
        "id": "kCWDUzj83SaD",
        "outputId": "eacbf5b4-07bc-41c6-e834-31c14adf74fe"
      },
      "execution_count": 42,
      "outputs": [
        {
          "output_type": "execute_result",
          "data": {
            "text/plain": [
              "36"
            ]
          },
          "metadata": {},
          "execution_count": 42
        }
      ]
    },
    {
      "cell_type": "code",
      "source": [
        "add(1,3,4,5)"
      ],
      "metadata": {
        "colab": {
          "base_uri": "https://localhost:8080/"
        },
        "id": "tdznyQ9D3XPt",
        "outputId": "bacec76f-b8c7-49c2-d044-5f9f4f77e83d"
      },
      "execution_count": 43,
      "outputs": [
        {
          "output_type": "execute_result",
          "data": {
            "text/plain": [
              "13"
            ]
          },
          "metadata": {},
          "execution_count": 43
        }
      ]
    },
    {
      "cell_type": "code",
      "source": [
        "def multiply(a=1,b=1,c=1):\n",
        "  return a*b*c"
      ],
      "metadata": {
        "id": "gvAQHDOJ3em-"
      },
      "execution_count": 44,
      "outputs": []
    },
    {
      "cell_type": "code",
      "source": [
        "multiply(8,3)"
      ],
      "metadata": {
        "colab": {
          "base_uri": "https://localhost:8080/"
        },
        "id": "wpxtx6NT4gWH",
        "outputId": "9c3074d7-7807-4617-b944-cff9b8634348"
      },
      "execution_count": 46,
      "outputs": [
        {
          "output_type": "execute_result",
          "data": {
            "text/plain": [
              "24"
            ]
          },
          "metadata": {},
          "execution_count": 46
        }
      ]
    },
    {
      "cell_type": "code",
      "source": [
        "multiply(8,3,2)"
      ],
      "metadata": {
        "colab": {
          "base_uri": "https://localhost:8080/"
        },
        "id": "3HxGVjvf4i5x",
        "outputId": "5c63125b-c426-48f9-8d37-f4864a3ef7d5"
      },
      "execution_count": 47,
      "outputs": [
        {
          "output_type": "execute_result",
          "data": {
            "text/plain": [
              "48"
            ]
          },
          "metadata": {},
          "execution_count": 47
        }
      ]
    },
    {
      "cell_type": "code",
      "source": [
        "multiply()"
      ],
      "metadata": {
        "colab": {
          "base_uri": "https://localhost:8080/"
        },
        "id": "UbHyCCst4ow5",
        "outputId": "a4717d59-09f2-4be2-b1fc-b1d6811c1c0a"
      },
      "execution_count": 48,
      "outputs": [
        {
          "output_type": "execute_result",
          "data": {
            "text/plain": [
              "1"
            ]
          },
          "metadata": {},
          "execution_count": 48
        }
      ]
    },
    {
      "cell_type": "code",
      "source": [
        "def prod(*num):## we dont how many inputs are going to come here\n",
        "  return num"
      ],
      "metadata": {
        "id": "8iJ-Lc415AdT"
      },
      "execution_count": 51,
      "outputs": []
    },
    {
      "cell_type": "code",
      "source": [
        "prod(12,23,4,4,55,6)"
      ],
      "metadata": {
        "colab": {
          "base_uri": "https://localhost:8080/"
        },
        "id": "G5JLuH9H5kTN",
        "outputId": "b6ce43dc-553b-4688-9207-6e13991be06b"
      },
      "execution_count": 52,
      "outputs": [
        {
          "output_type": "execute_result",
          "data": {
            "text/plain": [
              "(12, 23, 4, 4, 55, 6)"
            ]
          },
          "metadata": {},
          "execution_count": 52
        }
      ]
    },
    {
      "cell_type": "code",
      "source": [
        "def prod(*num):\n",
        "  r = 1\n",
        "  for i in num:\n",
        "    r*=i\n",
        "  return r"
      ],
      "metadata": {
        "id": "NoehEVa25mkU"
      },
      "execution_count": 55,
      "outputs": []
    },
    {
      "cell_type": "code",
      "source": [
        "prod(1,2,4,6)"
      ],
      "metadata": {
        "colab": {
          "base_uri": "https://localhost:8080/"
        },
        "id": "0GNbfZKV6HD2",
        "outputId": "bd367adc-4dd4-4053-9980-36107e15b12a"
      },
      "execution_count": 56,
      "outputs": [
        {
          "output_type": "execute_result",
          "data": {
            "text/plain": [
              "48"
            ]
          },
          "metadata": {},
          "execution_count": 56
        }
      ]
    },
    {
      "cell_type": "code",
      "source": [
        "def student_details(*name):\n",
        "  for i in name :\n",
        "    print(i)"
      ],
      "metadata": {
        "id": "WEuib-OY6JW6"
      },
      "execution_count": 57,
      "outputs": []
    },
    {
      "cell_type": "code",
      "source": [
        "student_details('anna','apppa')"
      ],
      "metadata": {
        "colab": {
          "base_uri": "https://localhost:8080/"
        },
        "id": "s4cw4pkI91-o",
        "outputId": "ea8d19ec-d39d-46b0-d48e-ce4288134bd8"
      },
      "execution_count": 58,
      "outputs": [
        {
          "output_type": "stream",
          "name": "stdout",
          "text": [
            "anna\n",
            "apppa\n"
          ]
        }
      ]
    },
    {
      "cell_type": "code",
      "source": [
        "#**kwargs : keyword arguments"
      ],
      "metadata": {
        "id": "HAv7AAMc96R2"
      },
      "execution_count": 59,
      "outputs": []
    },
    {
      "cell_type": "code",
      "source": [
        "def student_sub(student,**subjects):\n",
        "  print(f'My name is {student}')\n",
        "  return f'I like these subjects{subjects}'"
      ],
      "metadata": {
        "id": "K4RBmF8o-Cwc"
      },
      "execution_count": 60,
      "outputs": []
    },
    {
      "cell_type": "code",
      "source": [
        "student_sub(student= 'Atul' ,subjects= ('eng','math','sci'))"
      ],
      "metadata": {
        "colab": {
          "base_uri": "https://localhost:8080/",
          "height": 54
        },
        "id": "yz7KDw9i-p5h",
        "outputId": "fb7a7033-07b7-42eb-d28b-1091dc8ae2c8"
      },
      "execution_count": 61,
      "outputs": [
        {
          "output_type": "stream",
          "name": "stdout",
          "text": [
            "My name is Atul\n"
          ]
        },
        {
          "output_type": "execute_result",
          "data": {
            "text/plain": [
              "\"I like these subjects{'subjects': ('eng', 'math', 'sci')}\""
            ],
            "application/vnd.google.colaboratory.intrinsic+json": {
              "type": "string"
            }
          },
          "metadata": {},
          "execution_count": 61
        }
      ]
    },
    {
      "cell_type": "code",
      "source": [
        "def marks_in_sub(**subjects):\n",
        "  print(subjects)\n",
        "  for i,j in subjects.items():\n",
        "    print(f'Score in {i} and {j}')"
      ],
      "metadata": {
        "id": "wy9OvdBI_Y5M"
      },
      "execution_count": 67,
      "outputs": []
    },
    {
      "cell_type": "code",
      "source": [
        "marks_in_sub(sci =99,math= 78,bio =44)"
      ],
      "metadata": {
        "colab": {
          "base_uri": "https://localhost:8080/"
        },
        "id": "l0MHIRgsANV0",
        "outputId": "ac553dfc-9648-4e46-dd40-6070edd937ba"
      },
      "execution_count": 68,
      "outputs": [
        {
          "output_type": "stream",
          "name": "stdout",
          "text": [
            "{'sci': 99, 'math': 78, 'bio': 44}\n",
            "Score in sci and 99\n",
            "Score in math and 78\n",
            "Score in bio and 44\n"
          ]
        }
      ]
    },
    {
      "cell_type": "code",
      "source": [],
      "metadata": {
        "id": "nxZi7VvvAUM1"
      },
      "execution_count": null,
      "outputs": []
    }
  ]
}