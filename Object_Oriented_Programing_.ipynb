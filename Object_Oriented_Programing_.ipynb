{
  "nbformat": 4,
  "nbformat_minor": 0,
  "metadata": {
    "colab": {
      "provenance": [],
      "authorship_tag": "ABX9TyPCd75hWvc8AmaNsINXBZYp",
      "include_colab_link": true
    },
    "kernelspec": {
      "name": "python3",
      "display_name": "Python 3"
    },
    "language_info": {
      "name": "python"
    }
  },
  "cells": [
    {
      "cell_type": "markdown",
      "metadata": {
        "id": "view-in-github",
        "colab_type": "text"
      },
      "source": [
        "<a href=\"https://colab.research.google.com/github/atulpatil2228/Pw_Revision_Lec/blob/main/Object_Oriented_Programing_.ipynb\" target=\"_parent\"><img src=\"https://colab.research.google.com/assets/colab-badge.svg\" alt=\"Open In Colab\"/></a>"
      ]
    },
    {
      "cell_type": "code",
      "execution_count": 2,
      "metadata": {
        "id": "GH50Z8PP3Yd_"
      },
      "outputs": [],
      "source": [
        "class Car :\n",
        "  def __init__(self ,make,model, colour,years):\n",
        "    self.make = make\n",
        "    self.colour = colour\n",
        "    self.years =  years\n",
        "    self.model = model\n",
        "\n",
        "\n",
        "  def display_info(self):\n",
        "    print(f'make : {self.make}')\n",
        "    print(f'colour : {self.colour}')\n",
        "    print(f'years : {self.years}')\n",
        "    print(f'model : {self.model}')"
      ]
    },
    {
      "cell_type": "code",
      "source": [
        "my_car  = Car('Toyota' ,'Corolla' , 'Black' ,2022)"
      ],
      "metadata": {
        "id": "jnCd1bhP7G8r"
      },
      "execution_count": 3,
      "outputs": []
    },
    {
      "cell_type": "code",
      "source": [
        "my_car.make"
      ],
      "metadata": {
        "colab": {
          "base_uri": "https://localhost:8080/",
          "height": 36
        },
        "id": "G74XTKhS7-ni",
        "outputId": "d1c380eb-c68a-4313-e928-56ab4a6b3b50"
      },
      "execution_count": 6,
      "outputs": [
        {
          "output_type": "execute_result",
          "data": {
            "text/plain": [
              "'Toyota'"
            ],
            "application/vnd.google.colaboratory.intrinsic+json": {
              "type": "string"
            }
          },
          "metadata": {},
          "execution_count": 6
        }
      ]
    },
    {
      "cell_type": "code",
      "source": [
        "my_car.display_info()"
      ],
      "metadata": {
        "colab": {
          "base_uri": "https://localhost:8080/"
        },
        "id": "DBJ0VUpf8A71",
        "outputId": "0ab52f73-f50b-4edd-b25a-e50a1df535af"
      },
      "execution_count": 8,
      "outputs": [
        {
          "output_type": "stream",
          "name": "stdout",
          "text": [
            "make : Toyota\n",
            "colour : Black\n",
            "years : 2022\n",
            "model : Corolla\n"
          ]
        }
      ]
    },
    {
      "cell_type": "code",
      "source": [
        "class Dog :\n",
        "  def __init__(self,name,age,breed,colour):\n",
        "    self.name = name\n",
        "    self.age =  age\n",
        "    self.breed =  breed\n",
        "    self.colour = colour\n",
        "    self.energy_level = 5\n",
        "\n",
        "\n",
        "\n",
        "    def bark(self):\n",
        "      print('woof!,woof!')\n",
        "\n",
        "\n",
        "\n",
        "  def display_info(self):\n",
        "     print(f'name : {self.name}')\n",
        "     print(f'colour : {self.colour}')\n",
        "     print(f'age : {self.age}')\n",
        "     print(f'breed : {self.breed}')\n",
        "     print(f'energy_level : {self.energy_level}')\n",
        "\n",
        "  def play(self):\n",
        "    print(f'{self.name} is playig')\n",
        "    self.energy_level  += 2\n",
        "\n"
      ],
      "metadata": {
        "id": "03ItG0Lz8i2T"
      },
      "execution_count": 14,
      "outputs": []
    },
    {
      "cell_type": "code",
      "source": [
        "dog = Dog('Lucky' ,22,'siberia husky' ,'white')"
      ],
      "metadata": {
        "id": "STjGEgqbAgYw"
      },
      "execution_count": 15,
      "outputs": []
    },
    {
      "cell_type": "code",
      "source": [
        "dog.display_info()"
      ],
      "metadata": {
        "colab": {
          "base_uri": "https://localhost:8080/"
        },
        "id": "zhq6g9tRAsSC",
        "outputId": "6d875757-e89b-45f0-d225-d664a7c895af"
      },
      "execution_count": 26,
      "outputs": [
        {
          "output_type": "stream",
          "name": "stdout",
          "text": [
            "name : Lucky\n",
            "colour : white\n",
            "age : 22\n",
            "breed : siberia husky\n",
            "energy_level : 9\n"
          ]
        }
      ]
    },
    {
      "cell_type": "code",
      "source": [
        "dog.energy_level"
      ],
      "metadata": {
        "colab": {
          "base_uri": "https://localhost:8080/"
        },
        "id": "hLi1HnAjAyXE",
        "outputId": "c464f773-c9ba-4fc0-f2f0-1ea275b54ba5"
      },
      "execution_count": 23,
      "outputs": [
        {
          "output_type": "execute_result",
          "data": {
            "text/plain": [
              "7"
            ]
          },
          "metadata": {},
          "execution_count": 23
        }
      ]
    },
    {
      "cell_type": "code",
      "source": [
        "dog.play()"
      ],
      "metadata": {
        "colab": {
          "base_uri": "https://localhost:8080/"
        },
        "id": "mN6T7NY2CqGc",
        "outputId": "ca239c20-a891-4251-f4c9-2529ac203e02"
      },
      "execution_count": 25,
      "outputs": [
        {
          "output_type": "stream",
          "name": "stdout",
          "text": [
            "Lucky is playig\n"
          ]
        }
      ]
    },
    {
      "cell_type": "code",
      "source": [
        "class Persons :\n",
        "\n",
        " company  = 'Pw Skills'\n",
        "\n",
        " def __init__(self,name ,surname,year_of_birth):\n",
        "  self.name = name\n",
        "  self.surname =  surname\n",
        "  self.year_of_birth =  year_of_birth\n",
        "\n"
      ],
      "metadata": {
        "id": "3tRjTx8aCtC0"
      },
      "execution_count": 32,
      "outputs": []
    },
    {
      "cell_type": "code",
      "source": [
        "p1  = Persons(\"Atul\" , \"Patil\" ,'22/04/1999')\n",
        "print(p1.name,p1.surname,p1.year_of_birth)"
      ],
      "metadata": {
        "colab": {
          "base_uri": "https://localhost:8080/"
        },
        "id": "gprXoE7JE8Z4",
        "outputId": "47855bcf-15f4-44b0-8d82-6df80f8f97df"
      },
      "execution_count": 37,
      "outputs": [
        {
          "output_type": "stream",
          "name": "stdout",
          "text": [
            "Atul Patil 22/04/1999\n"
          ]
        }
      ]
    },
    {
      "cell_type": "code",
      "source": [
        "p1.company"
      ],
      "metadata": {
        "colab": {
          "base_uri": "https://localhost:8080/",
          "height": 36
        },
        "id": "EbIDqoR9FHP7",
        "outputId": "1b84d307-19ab-4f40-cd5c-772e3ab81202"
      },
      "execution_count": 36,
      "outputs": [
        {
          "output_type": "execute_result",
          "data": {
            "text/plain": [
              "'Pw Skills'"
            ],
            "application/vnd.google.colaboratory.intrinsic+json": {
              "type": "string"
            }
          },
          "metadata": {},
          "execution_count": 36
        }
      ]
    },
    {
      "cell_type": "code",
      "source": [
        "class Bank :\n",
        "  def __init__(self,name ,account_number,balance):\n",
        "    self.name = name\n",
        "    self.account_number = account_number\n",
        "    self.balance = balance\n",
        "\n",
        "  def deposit(self,amount) :\n",
        "    if amount > 0 :\n",
        "      self.balance += amount\n",
        "      print(f'Depossited ${amount}. New Balance : ${self.balance} ')\n",
        "    else :\n",
        "      print('Invalid amount of deposit')\n",
        "\n",
        "  def add_money(self,amount):\n",
        "    if amount > 0 :\n",
        "      self.balance += amount\n",
        "      print(f'added ${amount} to blace. New balance : ${self.balance}')\n",
        "    else :\n",
        "      print('Invalid amount for addition')"
      ],
      "metadata": {
        "id": "OmWIqeC9FZzZ"
      },
      "execution_count": 39,
      "outputs": []
    },
    {
      "cell_type": "code",
      "source": [
        "a1 = Bank ('Atul' ,123,10000000000)"
      ],
      "metadata": {
        "id": "4MjcPF8aNpU4"
      },
      "execution_count": 45,
      "outputs": []
    },
    {
      "cell_type": "code",
      "source": [
        "a1.deposit(90000)"
      ],
      "metadata": {
        "colab": {
          "base_uri": "https://localhost:8080/"
        },
        "id": "DBjNy9i7N9gN",
        "outputId": "3bd52dac-26d6-4a38-87d4-ad97f301a11c"
      },
      "execution_count": 46,
      "outputs": [
        {
          "output_type": "stream",
          "name": "stdout",
          "text": [
            "Depossited $90000. New Balance : $10000090000 \n"
          ]
        }
      ]
    },
    {
      "cell_type": "code",
      "source": [
        "a1.name =  ' Anna'"
      ],
      "metadata": {
        "id": "OF5qKjmWOBet"
      },
      "execution_count": 47,
      "outputs": []
    },
    {
      "cell_type": "code",
      "source": [
        "a1.name"
      ],
      "metadata": {
        "colab": {
          "base_uri": "https://localhost:8080/",
          "height": 36
        },
        "id": "DVaTPxccQS7W",
        "outputId": "08cc7de7-746b-489f-d4e7-5cdbff03ea41"
      },
      "execution_count": 48,
      "outputs": [
        {
          "output_type": "execute_result",
          "data": {
            "text/plain": [
              "' Anna'"
            ],
            "application/vnd.google.colaboratory.intrinsic+json": {
              "type": "string"
            }
          },
          "metadata": {},
          "execution_count": 48
        }
      ]
    },
    {
      "cell_type": "code",
      "source": [
        "a1.balance"
      ],
      "metadata": {
        "colab": {
          "base_uri": "https://localhost:8080/"
        },
        "id": "zgF406O5QUVD",
        "outputId": "5cba2929-8027-4480-89c7-936dd38828ee"
      },
      "execution_count": 49,
      "outputs": [
        {
          "output_type": "execute_result",
          "data": {
            "text/plain": [
              "10000090000"
            ]
          },
          "metadata": {},
          "execution_count": 49
        }
      ]
    },
    {
      "cell_type": "code",
      "source": [
        "class Bank :\n",
        "  def __init__(self,name ,account_number,balance):\n",
        "    self._name = name\n",
        "    self.account_number = account_number\n",
        "    self.balance = balance\n",
        "\n",
        "  def deposit(self,amount) :\n",
        "    if amount > 0 :\n",
        "      self.balance += amount\n",
        "      print(f'Depossited ${amount}. New Balance : ${self.balance} ')\n",
        "    else :\n",
        "      print('Invalid amount of deposit')\n",
        "\n",
        "  def add_money(self,amount):\n",
        "    if amount > 0 :\n",
        "      self.balance += amount\n",
        "      print(f'added ${amount} to blace. New balance : ${self.balance}')\n",
        "    else :\n",
        "      print('Invalid amount for addition')\n",
        "\n",
        "\n",
        "  def display_info(self):\n",
        "   print(f'name : {self._name}')"
      ],
      "metadata": {
        "id": "owUZjnWSQV_9"
      },
      "execution_count": 54,
      "outputs": []
    },
    {
      "cell_type": "code",
      "source": [
        "a1 = Bank ('Atul' ,123,10000000000)"
      ],
      "metadata": {
        "id": "oA8pBCj7RcZq"
      },
      "execution_count": 55,
      "outputs": []
    },
    {
      "cell_type": "code",
      "source": [
        "a1.name  = 'annna'"
      ],
      "metadata": {
        "id": "bNYoqR2GRehh"
      },
      "execution_count": 56,
      "outputs": []
    },
    {
      "cell_type": "code",
      "source": [
        "a1.name"
      ],
      "metadata": {
        "colab": {
          "base_uri": "https://localhost:8080/",
          "height": 36
        },
        "id": "NFZItRl4SV7Y",
        "outputId": "cd6db9a3-a9ec-4e00-f155-bd2cd278e709"
      },
      "execution_count": 57,
      "outputs": [
        {
          "output_type": "execute_result",
          "data": {
            "text/plain": [
              "'annna'"
            ],
            "application/vnd.google.colaboratory.intrinsic+json": {
              "type": "string"
            }
          },
          "metadata": {},
          "execution_count": 57
        }
      ]
    },
    {
      "cell_type": "code",
      "source": [
        "a1.display_info()"
      ],
      "metadata": {
        "colab": {
          "base_uri": "https://localhost:8080/"
        },
        "id": "B_sCSXFgSX1N",
        "outputId": "0eadb0a8-3ab2-4412-8af9-405b52d36a6c"
      },
      "execution_count": 59,
      "outputs": [
        {
          "output_type": "stream",
          "name": "stdout",
          "text": [
            "name : Atul\n"
          ]
        }
      ]
    },
    {
      "cell_type": "code",
      "source": [],
      "metadata": {
        "id": "0jtnSiwmSwao"
      },
      "execution_count": null,
      "outputs": []
    }
  ]
}